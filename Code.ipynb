{
 "cells": [
  {
   "cell_type": "code",
   "execution_count": null,
   "id": "02caa3aa-17a3-4c94-b761-50fc8ca78e9e",
   "metadata": {},
   "outputs": [],
   "source": [
    "import numpy as np \n",
    "import pandas as pd \n",
    "import matplotlib.pyplot as plt\n",
    "import seaborn as sns\n",
    "\n",
    "import warnings\n",
    "warnings.filterwarnings('ignore')"
   ]
  },
  {
   "cell_type": "code",
   "execution_count": null,
   "id": "837543e0-0b21-4660-8bad-087036cca92f",
   "metadata": {},
   "outputs": [],
   "source": [
    "df = pd.read_csv(r\"Processed_Miscarriage_Dataset.csv\")\n",
    "df = df.sample(frac=1, random_state=42).reset_index(drop=True)"
   ]
  },
  {
   "cell_type": "code",
   "execution_count": null,
   "id": "e3c9df3a-dd4c-41f9-9c87-f324d5efdabc",
   "metadata": {},
   "outputs": [],
   "source": [
    "df.head(100)"
   ]
  },
  {
   "cell_type": "code",
   "execution_count": null,
   "id": "217ceef0-eddb-4d57-88bc-b4bf3a48ef3f",
   "metadata": {},
   "outputs": [],
   "source": [
    "shape = df.shape\n",
    "shape"
   ]
  },
  {
   "cell_type": "code",
   "execution_count": null,
   "id": "61c05b91-76ef-4c8d-a33e-baa6041a89c2",
   "metadata": {},
   "outputs": [],
   "source": [
    "columns = df.columns"
   ]
  },
  {
   "cell_type": "code",
   "execution_count": null,
   "id": "b2c02cab-6fc4-4991-80fd-41b158e8a537",
   "metadata": {},
   "outputs": [],
   "source": [
    "columns"
   ]
  },
  {
   "cell_type": "code",
   "execution_count": null,
   "id": "afe79a52-0bc8-40f1-a806-72d628e1524b",
   "metadata": {},
   "outputs": [],
   "source": [
    "df.duplicated().sum()"
   ]
  },
  {
   "cell_type": "code",
   "execution_count": null,
   "id": "8133f24f-2d5c-444f-a89a-75797867f10e",
   "metadata": {},
   "outputs": [],
   "source": [
    "df = df.drop_duplicates()"
   ]
  },
  {
   "cell_type": "code",
   "execution_count": null,
   "id": "d8766b53-4c7a-4a83-8b78-8cb9a432137d",
   "metadata": {},
   "outputs": [],
   "source": [
    "df.isnull().sum()"
   ]
  },
  {
   "cell_type": "code",
   "execution_count": null,
   "id": "a7d585ef-e1e0-4cf1-ae34-5ade229c05e5",
   "metadata": {},
   "outputs": [],
   "source": [
    "mode_impute_cols = ['RelationWithHus', 'ChildEverBorn', 'Pre_termi_type', 'Ultra_bfr_preg_termi',\n",
    "                    'Major_water_src', 'Work_currently', 'Women_curr_job', 'Husband_job', 'Sex_Transmit_Diseases','AgeOf1stMensuration']\n",
    "\n",
    "for col in mode_impute_cols:\n",
    "    mode_value = df[col].mode()[0]\n",
    "    df[col].fillna(mode_value, inplace=True)"
   ]
  },
  {
   "cell_type": "code",
   "execution_count": null,
   "id": "8f50b10c-b838-4718-a1bc-aae24098e620",
   "metadata": {},
   "outputs": [],
   "source": [
    "!pip install scikit-learn"
   ]
  },
  {
   "cell_type": "code",
   "execution_count": null,
   "id": "e40d319c-cf68-4291-bf70-7bdc054509b3",
   "metadata": {},
   "outputs": [],
   "source": [
    "from sklearn.impute import KNNImputer\n",
    "median_husband_age = df['HusbandAge'].median()\n",
    "df['HusbandAge'].fillna(median_husband_age, inplace=True)\n",
    "\n",
    "mode_relation = df['RelationWithHus'].mode()[0]\n",
    "df['RelationWithHus'].fillna(mode_relation, inplace=True)\n",
    "median_age_1st_preg = df['AgeOf1stPreg'].median()\n",
    "df['AgeOf1stPreg'].fillna(median_age_1st_preg, inplace=True)\n",
    "median_water_src = df['Major_water_src'].median()\n",
    "df['Major_water_src'].fillna(median_water_src, inplace=True)\n",
    "\n",
    "df['Hus_Alcohol_Freq'].fillna('Missing', inplace=True)\n",
    "df['Physical_Abuse'].fillna('Missing', inplace=True)\n",
    "df['Wife_Alcohol_Freq'].fillna('Missing', inplace=True)\n",
    "df.drop(['Reason_termination', 'Chemotherapy'],axis = 1,inplace = True)"
   ]
  },
  {
   "cell_type": "code",
   "execution_count": null,
   "id": "986032a1-a105-440b-927b-8c1808540556",
   "metadata": {},
   "outputs": [],
   "source": [
    "df.isnull().sum()"
   ]
  },
  {
   "cell_type": "code",
   "execution_count": null,
   "id": "465379e9-e241-4ca7-a361-e5bc770d79f5",
   "metadata": {},
   "outputs": [],
   "source": [
    "def classify_features(df):\n",
    "    categorical_features = []\n",
    "    non_categorical_features = []\n",
    "    discrete_features = []\n",
    "    continuous_features = []\n",
    "\n",
    "    for column in df.columns:\n",
    "        if df[column].dtype == 'object':\n",
    "            if df[column].nunique() < 10:\n",
    "                categorical_features.append(column)\n",
    "            else:\n",
    "                non_categorical_features.append(column)\n",
    "        elif df[column].dtype in ['int64', 'float64']:\n",
    "            if df[column].nunique() < 10:\n",
    "                discrete_features.append(column)\n",
    "            else:\n",
    "                continuous_features.append(column)\n",
    "\n",
    "    return categorical_features, non_categorical_features, discrete_features, continuous_features"
   ]
  },
  {
   "cell_type": "code",
   "execution_count": null,
   "id": "bd029bd1-00fb-45c8-be4d-994882e5c0a1",
   "metadata": {},
   "outputs": [],
   "source": [
    "categorical, non_categorical, discrete, continuous = classify_features(df)"
   ]
  },
  {
   "cell_type": "code",
   "execution_count": null,
   "id": "3bf4673b-11a4-4391-9979-653c2d49afe4",
   "metadata": {},
   "outputs": [],
   "source": [
    "print(\"Categorical Features:\", categorical)\n",
    "print(\"Non-Categorical Features:\", non_categorical)\n",
    "print(\"Discrete Features:\", discrete)\n",
    "print(\"Continuous Features:\", continuous)"
   ]
  },
  {
   "cell_type": "code",
   "execution_count": null,
   "id": "b9fbeda2-ece0-4910-8ffe-7bce904845ab",
   "metadata": {},
   "outputs": [],
   "source": [
    "for i in discrete:\n",
    "    print(i)\n",
    "    print(df[i].unique())\n",
    "    print()"
   ]
  },
  {
   "cell_type": "code",
   "execution_count": null,
   "id": "22e1250d-3f9b-4956-859b-f845c69f9216",
   "metadata": {},
   "outputs": [],
   "source": [
    "for i in discrete:\n",
    "    print(df[i].value_counts())\n",
    "    print()"
   ]
  },
  {
   "cell_type": "code",
   "execution_count": null,
   "id": "7d70ca95-e911-4dcb-96db-c900ea0b8d7c",
   "metadata": {},
   "outputs": [],
   "source": [
    "for i in discrete:\n",
    "    plt.figure(figsize=(15, 6))\n",
    "    ax = sns.countplot(x=i, data=df, palette='hls')\n",
    "\n",
    "    for p in ax.patches:\n",
    "        height = p.get_height()\n",
    "        ax.annotate(f'{height}', \n",
    "                    xy=(p.get_x() + p.get_width() / 2., height),\n",
    "                    xytext=(0, 10),  \n",
    "                    textcoords='offset points',  \n",
    "                    ha='center', va='center')  \n",
    "    \n",
    "    plt.show()"
   ]
  },
  {
   "cell_type": "code",
   "execution_count": null,
   "id": "81289da7-debe-4b99-beec-cb951e64c8eb",
   "metadata": {},
   "outputs": [],
   "source": [
    "!pip install plotly"
   ]
  },
  {
   "cell_type": "code",
   "execution_count": null,
   "id": "8247d3c2-346a-458d-acd0-2771f2212748",
   "metadata": {},
   "outputs": [],
   "source": [
    "import plotly.express as px\n",
    "\n",
    "for i in discrete:\n",
    "    counts = df[i].value_counts()\n",
    "    fig = px.pie(counts, values=counts.values, names=counts.index, title=f'Distribution of {i}')\n",
    "    fig.show()"
   ]
  },
  {
   "cell_type": "code",
   "execution_count": null,
   "id": "11ad430d-fd3a-4aa1-9c6d-efbae0ef64c7",
   "metadata": {},
   "outputs": [],
   "source": [
    "for i in continuous:\n",
    "    plt.figure(figsize=(15,6))\n",
    "    sns.histplot(df[i], bins = 20, kde = True, palette='hls')\n",
    "    plt.xticks(rotation = 90)\n",
    "    plt.show()"
   ]
  },
  {
   "cell_type": "code",
   "execution_count": null,
   "id": "7e660cb0-a28b-448b-9bf5-259184ef2db6",
   "metadata": {},
   "outputs": [],
   "source": [
    "from sklearn.linear_model import LogisticRegression\n",
    "from sklearn.model_selection import train_test_split"
   ]
  },
  {
   "cell_type": "code",
   "execution_count": null,
   "id": "68370065-70e4-4ea1-8d1f-5b5e44c6c9b9",
   "metadata": {},
   "outputs": [],
   "source": [
    "columns = df.columns\n",
    "for i in columns:\n",
    "    if df[i].dtype == 'object':\n",
    "        cat = {}\n",
    "        cnt = 1\n",
    "        for j in df[i].unique():\n",
    "            cat[j] = cnt\n",
    "            cnt += 1\n",
    "        df[i] = df[i].map(cat)"
   ]
  },
  {
   "cell_type": "code",
   "execution_count": null,
   "id": "267d964f-1129-483f-8a79-7e62a1122ccb",
   "metadata": {},
   "outputs": [],
   "source": [
    "df.dtypes"
   ]
  },
  {
   "cell_type": "code",
   "execution_count": null,
   "id": "604715ec-7ebe-4e31-9418-9cf028a46861",
   "metadata": {},
   "outputs": [],
   "source": [
    "X = df.drop(['Preg_termination'],axis=1)\n",
    "y = df['Preg_termination'].astype(int)\n",
    "X_train, X_test, y_train, y_test = train_test_split(X, y, test_size=0.20, stratify = y,random_state=42)"
   ]
  },
  {
   "cell_type": "code",
   "execution_count": null,
   "id": "c5498682-f255-474f-85d6-373420d461c2",
   "metadata": {},
   "outputs": [],
   "source": [
    "logreg = LogisticRegression()\n",
    "logreg.fit(X_train, y_train)"
   ]
  },
  {
   "cell_type": "code",
   "execution_count": null,
   "id": "54f89bd5-5f9c-45eb-bb72-1aea587e1bfb",
   "metadata": {},
   "outputs": [],
   "source": [
    "y_pred = logreg.predict(X_test)"
   ]
  },
  {
   "cell_type": "code",
   "execution_count": null,
   "id": "481889de-2b40-4033-9951-c8362a88b1da",
   "metadata": {},
   "outputs": [],
   "source": [
    "from sklearn.metrics import accuracy_score, precision_score, recall_score, f1_score, confusion_matrix, classification_report, roc_curve, precision_recall_curve, auc"
   ]
  },
  {
   "cell_type": "code",
   "execution_count": null,
   "id": "76359ea7-6408-4dcf-a55b-6429aa216cf7",
   "metadata": {},
   "outputs": [],
   "source": [
    "accuracy = accuracy_score(y_test, y_pred)\n",
    "print('Accuracy:',accuracy)\n",
    "\n",
    "precision = precision_score(y_test, y_pred)\n",
    "print('Precision',precision)\n",
    "\n",
    "recall = recall_score(y_test, y_pred)\n",
    "print('Recall',recall)\n",
    "\n",
    "f1 = f1_score(y_test, y_pred)\n",
    "print('F1:',f1)\n",
    "\n",
    "cm = confusion_matrix(y_test, y_pred)\n",
    "print(cm)\n",
    "\n",
    "y_prob = logreg.predict_proba(X_test)\n",
    "print(y_prob)\n",
    "\n",
    "cr = classification_report(y_test, y_pred)\n",
    "print(cr)"
   ]
  },
  {
   "cell_type": "code",
   "execution_count": null,
   "id": "68cac458-8533-44f4-a6ba-735577817366",
   "metadata": {},
   "outputs": [],
   "source": [
    "from sklearn.tree import DecisionTreeClassifier\n",
    "from sklearn.ensemble import RandomForestClassifier\n",
    "from sklearn.svm import SVC\n",
    "from sklearn.neighbors import KNeighborsClassifier\n",
    "from sklearn.naive_bayes import GaussianNB"
   ]
  },
  {
   "cell_type": "code",
   "execution_count": null,
   "id": "bffcfd19-b04d-4cea-8fb9-2f70850b8c32",
   "metadata": {},
   "outputs": [],
   "source": [
    "dt_model = DecisionTreeClassifier()\n",
    "dt_model.fit(X_train, y_train)\n",
    "\n",
    "y_pred = dt_model.predict(X_test)\n",
    "print(\"Decision Tree Accuracy:\", accuracy_score(y_test, y_pred))"
   ]
  },
  {
   "cell_type": "code",
   "execution_count": null,
   "id": "bda772cf-1bb8-4b78-a9cf-886ec769280e",
   "metadata": {},
   "outputs": [],
   "source": [
    "rf_model = RandomForestClassifier(n_estimators=100, random_state=42)\n",
    "rf_model.fit(X_train, y_train)\n",
    "\n",
    "y_pred = rf_model.predict(X_test)\n",
    "print(\"Random Forest Accuracy:\", accuracy_score(y_test, y_pred))"
   ]
  },
  {
   "cell_type": "code",
   "execution_count": null,
   "id": "5011a7a7-d617-48b0-82a8-54d18586ef09",
   "metadata": {},
   "outputs": [],
   "source": [
    "svm_model = SVC(kernel='linear')  \n",
    "svm_model.fit(X_train, y_train)\n",
    "\n",
    "y_pred = svm_model.predict(X_test)\n",
    "print(\"SVM Accuracy:\", accuracy_score(y_test, y_pred))"
   ]
  },
  {
   "cell_type": "code",
   "execution_count": null,
   "id": "5738fbb4-6b9b-4794-a4e8-661d5955d396",
   "metadata": {},
   "outputs": [],
   "source": [
    "knn_model = KNeighborsClassifier(n_neighbors=5)  \n",
    "knn_model.fit(X_train, y_train)\n",
    "\n",
    "y_pred = knn_model.predict(X_test)\n",
    "print(\"KNN Accuracy:\", accuracy_score(y_test, y_pred))"
   ]
  },
  {
   "cell_type": "code",
   "execution_count": null,
   "id": "54b30440-ada2-48ea-a55a-f8af6dd0cdaa",
   "metadata": {},
   "outputs": [],
   "source": [
    "nb_model = GaussianNB()\n",
    "nb_model.fit(X_train, y_train)\n",
    "\n",
    "y_pred = nb_model.predict(X_test)\n",
    "print(\"Naïve Bayes Accuracy:\", accuracy_score(y_test, y_pred))"
   ]
  },
  {
   "cell_type": "code",
   "execution_count": null,
   "id": "422ee039-730f-47de-99de-9248f1b1e76b",
   "metadata": {},
   "outputs": [],
   "source": []
  }
 ],
 "metadata": {
  "kernelspec": {
   "display_name": "Python 3 (ipykernel)",
   "language": "python",
   "name": "python3"
  },
  "language_info": {
   "codemirror_mode": {
    "name": "ipython",
    "version": 3
   },
   "file_extension": ".py",
   "mimetype": "text/x-python",
   "name": "python",
   "nbconvert_exporter": "python",
   "pygments_lexer": "ipython3",
   "version": "3.13.1"
  }
 },
 "nbformat": 4,
 "nbformat_minor": 5
}
